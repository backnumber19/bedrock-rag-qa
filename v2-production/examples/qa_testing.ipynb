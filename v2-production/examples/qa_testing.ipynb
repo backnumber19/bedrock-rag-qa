{
 "cells": [
  {
   "cell_type": "code",
   "execution_count": null,
   "id": "b0ad20cc",
   "metadata": {},
   "outputs": [],
   "source": [
    "import sys\n",
    "import os\n",
    "\n",
    "\n",
    "venv_path = \"YOUR_VENV_PATH\"\n",
    "python_path = os.path.join(venv_path, \"bin\", \"python\")\n",
    "\n",
    "\n",
    "\n",
    "if python_path not in sys.path:\n",
    "\n",
    "    sys.path.insert(0, python_path)\n",
    "\n",
    "\n",
    "\n",
    "site_packages = os.path.join(venv_path, \"lib\", \"python3.9\", \"site-packages\")\n",
    "\n",
    "if site_packages not in sys.path:\n",
    "\n",
    "    sys.path.insert(0, site_packages)\n",
    "\n",
    "\n",
    "\n",
    "os.chdir(\"..\")\n",
    "\n",
    "\n",
    "\n",
    "project_root = os.getcwd()\n",
    "sys.path.append(\"src\")"
   ]
  },
  {
   "cell_type": "code",
   "execution_count": 8,
   "id": "3d0487a0",
   "metadata": {},
   "outputs": [],
   "source": [
    "question = \"What are LG Energy Solution's main products?\"\n",
    "questions = [\n",
    "    \"What is the ESG strategy?\",\n",
    "    \"What are the financial highlights?\",\n",
    "]"
   ]
  },
  {
   "cell_type": "code",
   "execution_count": null,
   "id": "c5193b7e",
   "metadata": {},
   "outputs": [],
   "source": [
    "from qa_pipeline import ProductionQASystem\n",
    "\n",
    "qa = ProductionQASystem(verbose=False)\n",
    "\n",
    "result = qa.ask(question)\n",
    "print(result[\"answer\"])\n",
    "\n",
    "qa.print_result(result)\n",
    "\n",
    "results = qa.ask_batch(questions)\n",
    "\n",
    "for r in results:\n",
    "    qa.print_result(r, show_citations=False)\n",
    "\n",
    "qa.print_batch_summary(results)"
   ]
  }
 ],
 "metadata": {
  "kernelspec": {
   "display_name": "Python 3",
   "language": "python",
   "name": "python3"
  },
  "language_info": {
   "codemirror_mode": {
    "name": "ipython",
    "version": 3
   },
   "file_extension": ".py",
   "mimetype": "text/x-python",
   "name": "python",
   "nbconvert_exporter": "python",
   "pygments_lexer": "ipython3",
   "version": "3.11.9"
  }
 },
 "nbformat": 4,
 "nbformat_minor": 5
}
